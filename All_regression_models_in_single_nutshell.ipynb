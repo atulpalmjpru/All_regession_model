{
  "nbformat": 4,
  "nbformat_minor": 0,
  "metadata": {
    "colab": {
      "provenance": []
    },
    "kernelspec": {
      "name": "python3",
      "display_name": "Python 3"
    },
    "language_info": {
      "name": "python"
    }
  },
  "cells": [
    {
      "cell_type": "markdown",
      "source": [
        "# Regression Models in Single shot"
      ],
      "metadata": {
        "id": "WBujk9Dmd255"
      }
    },
    {
      "cell_type": "markdown",
      "source": [
        "## Data Preparation"
      ],
      "metadata": {
        "id": "fa_je5h_e6fc"
      }
    },
    {
      "cell_type": "code",
      "execution_count": null,
      "metadata": {
        "id": "D2b4F4jQHaT4"
      },
      "outputs": [],
      "source": [
        "import pandas as pd\n",
        "import numpy as np\n",
        "import math"
      ]
    },
    {
      "cell_type": "code",
      "source": [
        "data=pd.read_csv('kc_house_data.csv')\n",
        "data.drop(columns=['id'])"
      ],
      "metadata": {
        "id": "va3ipyPdHkfk"
      },
      "execution_count": null,
      "outputs": []
    },
    {
      "cell_type": "code",
      "source": [
        "data.info()\n",
        "data.date.unique()"
      ],
      "metadata": {
        "id": "psK_tNqCIqc1"
      },
      "execution_count": null,
      "outputs": []
    },
    {
      "cell_type": "code",
      "source": [
        "#Date is object daat type so converting to float and handling the values\n",
        "def handle_date(text):\n",
        "  text=str(text)\n",
        "  if len(text)>=4:\n",
        "    text=text[2:4]\n",
        "    text=float(text)\n",
        "  else:\n",
        "    pass\n",
        "  return text"
      ],
      "metadata": {
        "id": "LRo3A7GpIELe"
      },
      "execution_count": null,
      "outputs": []
    },
    {
      "cell_type": "code",
      "source": [
        "data['date']=data['date'].apply(handle_date)"
      ],
      "metadata": {
        "id": "mnFw9xJLJFs7"
      },
      "execution_count": null,
      "outputs": []
    },
    {
      "cell_type": "code",
      "source": [
        "data"
      ],
      "metadata": {
        "id": "mQqLqcAVJE5n"
      },
      "execution_count": null,
      "outputs": []
    },
    {
      "cell_type": "code",
      "source": [
        "#important cells\n",
        "# dependent variable =date,bedrooms,bathrooms,sqft_living,sqft_lot,floor,grade,sqft_above,yr_build\n",
        "# columns=data.columns\n",
        "# print(columns)\n",
        "data.isna().sum()\n"
      ],
      "metadata": {
        "id": "ZHWibPvQJqAW"
      },
      "execution_count": null,
      "outputs": []
    },
    {
      "cell_type": "code",
      "source": [
        "data.info()\n",
        "data.drop_duplicates()"
      ],
      "metadata": {
        "id": "n9fJ4MUKOla2"
      },
      "execution_count": null,
      "outputs": []
    },
    {
      "cell_type": "code",
      "source": [
        "data.describe()"
      ],
      "metadata": {
        "id": "S2AyVEYvOsQs"
      },
      "execution_count": null,
      "outputs": []
    },
    {
      "cell_type": "code",
      "source": [
        "data.date.value_counts()"
      ],
      "metadata": {
        "id": "wCbMydiPOx9a"
      },
      "execution_count": null,
      "outputs": []
    },
    {
      "cell_type": "code",
      "source": [
        "X=data.drop(columns=['price'])\n",
        "y=data['price']\n",
        "X"
      ],
      "metadata": {
        "id": "F6O8_sZcPHmr"
      },
      "execution_count": null,
      "outputs": []
    },
    {
      "cell_type": "markdown",
      "source": [
        "## Data Splittig in Testting and Training"
      ],
      "metadata": {
        "id": "pbOiSKMEe_aZ"
      }
    },
    {
      "cell_type": "code",
      "source": [
        "from sklearn.model_selection import train_test_split\n",
        "X_train,X_test,y_train,y_test=train_test_split(X,y,test_size=0.3,random_state=42)"
      ],
      "metadata": {
        "id": "UC8ylqEVPw9g"
      },
      "execution_count": null,
      "outputs": []
    },
    {
      "cell_type": "markdown",
      "source": [
        "## Scaling the data"
      ],
      "metadata": {
        "id": "Xz_OwLRtfGdW"
      }
    },
    {
      "cell_type": "code",
      "source": [
        "from sklearn.preprocessing import StandardScaler\n",
        "scaler=StandardScaler()\n",
        "X_train=scaler.fit_transform(X_train)\n",
        "X_test=scaler.transform(X_test)"
      ],
      "metadata": {
        "id": "Htly9NfUPT9M"
      },
      "execution_count": null,
      "outputs": []
    },
    {
      "cell_type": "code",
      "source": [
        "from sklearn.metrics import r2_score,mean_squared_error"
      ],
      "metadata": {
        "id": "m-7xkjHOSjC_"
      },
      "execution_count": null,
      "outputs": []
    },
    {
      "cell_type": "markdown",
      "source": [
        "## Model Building and Anaylsis of which one is best\n"
      ],
      "metadata": {
        "id": "CljOroCRfNW7"
      }
    },
    {
      "cell_type": "code",
      "source": [
        "from sklearn.linear_model import Lasso\n",
        "model=Lasso(alpha=0.1)\n",
        "model.fit(X_train,y_train)\n",
        "predictions=model.predict(X_test)\n",
        "print(r2_score(y_test,predictions))"
      ],
      "metadata": {
        "id": "3uOEjhdsQbot"
      },
      "execution_count": null,
      "outputs": []
    },
    {
      "cell_type": "code",
      "source": [
        "from sklearn.linear_model import Ridge\n",
        "model=Ridge(alpha=0.2)\n",
        "model.fit(X_train,y_train)\n",
        "predictions=model.predict(X_test)\n",
        "print(r2_score(y_test,predictions))"
      ],
      "metadata": {
        "id": "WM0q_ADkRD8E"
      },
      "execution_count": null,
      "outputs": []
    },
    {
      "cell_type": "code",
      "source": [
        "from sklearn.linear_model import LogisticRegression\n",
        "model=LogisticRegression()\n",
        "model.fit(X_train,y_train)\n",
        "predictions=model.predict(X_test)\n",
        "print(r2_score(y_test,predictions))"
      ],
      "metadata": {
        "id": "iE_j5mqhR3Jt"
      },
      "execution_count": null,
      "outputs": []
    },
    {
      "cell_type": "code",
      "source": [
        "from sklearn.preprocessing import PolynomialFeatures\n",
        "from sklearn.linear_model import LinearRegression\n",
        "poly=PolynomialFeatures(degree=2)\n",
        "X_train_poly=poly.fit_transform(X_train)\n",
        "X_test_poly=poly.transform(X_test)\n",
        "model=LinearRegression()\n",
        "model.fit(X_train_poly,y_train)\n",
        "predictions=model.predict(X_test_poly)\n",
        "print(r2_score(predictions,y_test))"
      ],
      "metadata": {
        "id": "2TD8_6TGSSTK"
      },
      "execution_count": null,
      "outputs": []
    },
    {
      "cell_type": "code",
      "source": [
        "from sklearn.tree import DecisionTreeRegressor\n",
        "model=DecisionTreeRegressor()\n",
        "model.fit(X_train,y_train)\n",
        "predictions=model.predict(X_test)\n",
        "print(r2_score(predictions,y_test))"
      ],
      "metadata": {
        "id": "tppvs3O4UL6a"
      },
      "execution_count": null,
      "outputs": []
    },
    {
      "cell_type": "code",
      "source": [
        "from sklearn.neighbors import KNeighborsRegressor\n",
        "model=KNeighborsRegressor(n_neighbors=3)\n",
        "model.fit(X_train,y_train)\n",
        "predictions=model.predict(X_test)\n",
        "print(r2_score(predictions,y_test))"
      ],
      "metadata": {
        "id": "EZv8o2tfXBLC"
      },
      "execution_count": null,
      "outputs": []
    },
    {
      "cell_type": "code",
      "source": [
        "from sklearn.ensemble import RandomForestRegressor\n",
        "model=RandomForestRegressor(n_estimators=16)\n",
        "model.fit(X_train,y_train)\n",
        "predictions=model.predict(X_test)\n",
        "print(r2_score(predictions,y_test))"
      ],
      "metadata": {
        "id": "U8df4TC_YNNf"
      },
      "execution_count": null,
      "outputs": []
    },
    {
      "cell_type": "code",
      "source": [
        "from xgboost import XGBRegressor\n",
        "model=XGBRegressor()\n",
        "model.fit(X_train,y_train)\n",
        "predictions=model.predict(X_test)\n",
        "print(r2_score(predictions,y_test))"
      ],
      "metadata": {
        "id": "gO-kK5YpY6_x"
      },
      "execution_count": null,
      "outputs": []
    },
    {
      "cell_type": "markdown",
      "source": [
        "# This is all about the regression Models    Thanks"
      ],
      "metadata": {
        "id": "zwHv5u5repLv"
      }
    }
  ]
}